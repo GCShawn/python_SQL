{
 "cells": [
  {
   "cell_type": "code",
   "execution_count": 1,
   "metadata": {
    "ExecuteTime": {
     "end_time": "2021-05-07T09:36:04.216647Z",
     "start_time": "2021-05-07T09:36:04.202630Z"
    }
   },
   "outputs": [],
   "source": [
    "import os\n",
    "import shutil"
   ]
  },
  {
   "cell_type": "code",
   "execution_count": 2,
   "metadata": {
    "ExecuteTime": {
     "end_time": "2021-05-07T09:36:14.131248Z",
     "start_time": "2021-05-07T09:36:04.219635Z"
    }
   },
   "outputs": [
    {
     "name": "stdout",
     "output_type": "stream",
     "text": [
      "dirname:test\n"
     ]
    }
   ],
   "source": [
    "dirname = input(\"dirname:\")"
   ]
  },
  {
   "cell_type": "code",
   "execution_count": 3,
   "metadata": {
    "ExecuteTime": {
     "end_time": "2021-05-07T09:36:14.147274Z",
     "start_time": "2021-05-07T09:36:14.133259Z"
    }
   },
   "outputs": [],
   "source": [
    "def duplicate(src, path):\n",
    "    shutil.copyfile(src, path, follow_symlinks=False)\n",
    "\n",
    "\n",
    "def mkdir(dirname=r\"./test2\"):\n",
    "\n",
    "    dic_folder_path = {\"key_path\": r\"/Key\",\n",
    "                       \"output_path\": r\"/Output\",\n",
    "                       \"sql_path\": r\"/SQL\",\n",
    "                       \"src_path\": r\"/Src\"}\n",
    "\n",
    "    dic_key_path = {\"key_origin_name\": r\"/origin.json\",\n",
    "                    \"key_test_name\": r\"/test.json\"}\n",
    "\n",
    "    dic_file_dupl_path = {\"src_of_tool\": r\"./tool.ipynb\",\n",
    "                          \"src_of_prototype\": r\"./prototype.ipynb\"}\n",
    "\n",
    "    # 创建目录\n",
    "    for name, path in dic_folder_path.items():\n",
    "        try:\n",
    "            os.makedirs(dirname + path)\n",
    "            print(path+\"目录创建成功\")\n",
    "        except FileExistsError:\n",
    "            print(path+\"目录存在\")\n",
    "\n",
    "    # 创建Key\n",
    "    for name, path in dic_key_path.items():\n",
    "        if os.path.exists(dirname + dic_folder_path['key_path'] + path) == 0:\n",
    "            file = open(dirname + dic_folder_path['key_path'] + path, 'w')\n",
    "            file.write('[{\"database\":,\"user\":,\"password\":,\"host\":,\"port\":}]')\n",
    "            file.close()\n",
    "            print(name+\"文件创建成功\")\n",
    "        else:\n",
    "            print(name+\"文件存在\")\n",
    "\n",
    "    # 复制文件\n",
    "    for name, path in dic_file_dupl_path.items():\n",
    "        duplicate(path, dirname+path)"
   ]
  },
  {
   "cell_type": "code",
   "execution_count": 4,
   "metadata": {
    "ExecuteTime": {
     "end_time": "2021-05-07T09:36:14.177525Z",
     "start_time": "2021-05-07T09:36:14.149257Z"
    }
   },
   "outputs": [
    {
     "name": "stdout",
     "output_type": "stream",
     "text": [
      "/Key目录创建成功\n",
      "/Output目录创建成功\n",
      "/SQL目录创建成功\n",
      "/Src目录创建成功\n",
      "key_origin_name文件创建成功\n",
      "key_test_name文件创建成功\n"
     ]
    }
   ],
   "source": [
    "mkdir(dirname)"
   ]
  }
 ],
 "metadata": {
  "kernelspec": {
   "display_name": "Python 3",
   "language": "python",
   "name": "python3"
  },
  "language_info": {
   "codemirror_mode": {
    "name": "ipython",
    "version": 3
   },
   "file_extension": ".py",
   "mimetype": "text/x-python",
   "name": "python",
   "nbconvert_exporter": "python",
   "pygments_lexer": "ipython3",
   "version": "3.7.6"
  },
  "toc": {
   "base_numbering": 1,
   "nav_menu": {},
   "number_sections": true,
   "sideBar": true,
   "skip_h1_title": false,
   "title_cell": "Table of Contents",
   "title_sidebar": "Contents",
   "toc_cell": false,
   "toc_position": {},
   "toc_section_display": true,
   "toc_window_display": false
  },
  "varInspector": {
   "cols": {
    "lenName": 16,
    "lenType": 16,
    "lenVar": 40
   },
   "kernels_config": {
    "python": {
     "delete_cmd_postfix": "",
     "delete_cmd_prefix": "del ",
     "library": "var_list.py",
     "varRefreshCmd": "print(var_dic_list())"
    },
    "r": {
     "delete_cmd_postfix": ") ",
     "delete_cmd_prefix": "rm(",
     "library": "var_list.r",
     "varRefreshCmd": "cat(var_dic_list()) "
    }
   },
   "types_to_exclude": [
    "module",
    "function",
    "builtin_function_or_method",
    "instance",
    "_Feature"
   ],
   "window_display": false
  }
 },
 "nbformat": 4,
 "nbformat_minor": 4
}

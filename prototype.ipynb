{
 "cells": [
  {
   "cell_type": "code",
   "execution_count": 2,
   "metadata": {
    "ExecuteTime": {
     "end_time": "2021-05-07T09:22:30.796304Z",
     "start_time": "2021-05-07T09:22:30.424061Z"
    }
   },
   "outputs": [],
   "source": [
    "#!/usr/bin/env python\n",
    "# coding: utf-8\n",
    "\n",
    "import pandas as pd\n",
    "import json\n",
    "import datetime\n",
    "from dateutil.relativedelta import relativedelta\n",
    "import pytz\n",
    "import os\n",
    "import openpyxl\n",
    "from openpyxl.styles import Border,Side,Alignment,PatternFill,Font"
   ]
  },
  {
   "cell_type": "code",
   "execution_count": null,
   "metadata": {
    "ExecuteTime": {
     "end_time": "2021-05-07T09:22:22.784950Z",
     "start_time": "2021-05-07T09:22:22.143Z"
    }
   },
   "outputs": [],
   "source": [
    "#找tool文件\n",
    "if os.path.exists(r'./tool.py')==0:\n",
    "    try:\n",
    "        !jupyter nbconvert --to python tool.ipynb\n",
    "        # python即转化为.py，script即转化为.html\n",
    "        # file_name.ipynb即当前module的文件名\n",
    "        print(\"tool.py不存在，已从tool.ipynb生成tool.py\")\n",
    "    except:\n",
    "        pass\n",
    "import tool"
   ]
  },
  {
   "cell_type": "markdown",
   "metadata": {},
   "source": [
    "# 修改输入输出"
   ]
  },
  {
   "cell_type": "code",
   "execution_count": null,
   "metadata": {
    "ExecuteTime": {
     "end_time": "2021-05-07T09:22:22.785948Z",
     "start_time": "2021-05-07T09:22:22.144Z"
    }
   },
   "outputs": [],
   "source": [
    "# In[ ]:\n",
    "# time_record = \"当前时间\"\n",
    "# date_now = tool.setTime(time_record,date_str)\n",
    "\n",
    "time_record = \"固定时间\"\n",
    "date_str = '2021-1-01'\n",
    "\n",
    "date_now = tool.setTime(time_record,date_str)#自动\n",
    "datetime_now = pd.to_datetime(date_now)#自动\n",
    "datetime_now = datetime_now.replace(tzinfo=pytz.timezone('Asia/Shanghai'))#加时区#自动\n",
    "date_attach = str(date_now)#自动\n",
    "\n",
    "#Excel,CSV之类的文件放在Src\n",
    "#---------------Src文件输入地址---------------#\n",
    "src_path = r'./Src/'\n",
    "src_array = list(filter(lambda i: \".xl\" in i,os.listdir(src_path)))#自动处理\n",
    "#---------------Src文件输入地址---------------#\n",
    "\n",
    "\n",
    "#---------------SQL存放地址---------------#\n",
    "sql_path = r'./SQL/'\n",
    "sql_array = list(filter(lambda i: \".sql\" in i,os.listdir(sql_path)))#自动处理\n",
    "#---------------SQL存放地址---------------#\n",
    "\n",
    "\n",
    "#---------------目标数据库密钥---------------#\n",
    "# key_flag = \"测试环境\"\n",
    "key_flag = \"真实环境\"\n",
    "\n",
    "key_path = r'./Key'\n",
    "key_test = r'/test.json'#测试环境数据库密钥文件\n",
    "key_orgin = r'/origin.json'#真实环境数据库密钥文件\n",
    "#---------------目标数据库密钥---------------#\n",
    "\n",
    "\n",
    "\n",
    "#---------------文件输出地址---------------#\n",
    "output_path = r'./Output'\n",
    "output_name = r'/sample' + date_attach + '.xlsx'\n",
    "#---------------文件输出地址---------------#\n",
    "\n",
    "tool.pandasPrettyPrinting()#修改pandas的print状态，用于调试"
   ]
  },
  {
   "cell_type": "markdown",
   "metadata": {
    "ExecuteTime": {
     "end_time": "2021-04-28T02:22:16.011447Z",
     "start_time": "2021-04-28T02:22:16.008446Z"
    }
   },
   "source": [
    "# 字典"
   ]
  },
  {
   "cell_type": "code",
   "execution_count": null,
   "metadata": {
    "ExecuteTime": {
     "end_time": "2021-05-07T09:22:22.785948Z",
     "start_time": "2021-05-07T09:22:22.145Z"
    }
   },
   "outputs": [],
   "source": [
    "# In[ ]:\n",
    "#---------------字典---------------#\n",
    "dic_col_name = {\"project_name\": \"项目名称\",\n",
    "                \"project_gid\": \"项目GID\", \"project_manager_name\": \"项目经理姓名\"}\n",
    "dic_ = {}\n",
    "#---------------字典---------------#"
   ]
  },
  {
   "cell_type": "markdown",
   "metadata": {
    "ExecuteTime": {
     "end_time": "2021-04-28T02:23:19.843302Z",
     "start_time": "2021-04-28T02:23:19.840301Z"
    }
   },
   "source": [
    "# 方法"
   ]
  },
  {
   "cell_type": "code",
   "execution_count": null,
   "metadata": {
    "ExecuteTime": {
     "end_time": "2021-05-07T09:22:22.786942Z",
     "start_time": "2021-05-07T09:22:22.147Z"
    }
   },
   "outputs": [],
   "source": [
    "# In[ ]:\n",
    "def dealDataFrame(df,funcOfDeal):\n",
    "    #修改格式\n",
    "    #funcOfDeal 为外部函数\n",
    "    df_deal = funcOfDeal(df)\n",
    "\n",
    "#     #修改格式\n",
    "#     tool.changeColTime(df_deal,'estimated_end_date',From = 'datetime',To = 'str')#修改日期Datetime格式为Str方便输出\n",
    "#     tool.changeColData(df_deal,\"milestone_status\",dic_milestone_status)#字典修改列数据\n",
    "    tool.changeCol(df_deal,dic_col_name)#最后修改列名\n",
    "\n",
    "    return df_deal"
   ]
  },
  {
   "cell_type": "markdown",
   "metadata": {},
   "source": [
    "# 主体函数"
   ]
  },
  {
   "cell_type": "markdown",
   "metadata": {},
   "source": [
    "## 从数据库获取数据"
   ]
  },
  {
   "cell_type": "code",
   "execution_count": null,
   "metadata": {
    "ExecuteTime": {
     "end_time": "2021-05-07T09:22:22.787934Z",
     "start_time": "2021-05-07T09:22:22.149Z"
    }
   },
   "outputs": [],
   "source": [
    "# In[ ]:\n",
    "sql_var_names = locals()\n",
    "replacing = {}#sql文件内按字典替换内容\n",
    "#---------------自动操作---------------#\n",
    "key = tool.getKeyFromJson(key_path,key_test,key_orgin,key_flag)\n",
    "sql_conn,sql_cur = tool.connectDatabase(key)\n",
    "tool.getDataFromSQLList(sql_var_names, sql_cur, sql_path, sql_array, replacing)\n",
    "#---------------自动操作---------------#"
   ]
  },
  {
   "cell_type": "markdown",
   "metadata": {},
   "source": [
    "## 从文件获得数据"
   ]
  },
  {
   "cell_type": "code",
   "execution_count": null,
   "metadata": {
    "ExecuteTime": {
     "end_time": "2021-05-07T09:22:22.788935Z",
     "start_time": "2021-05-07T09:22:22.150Z"
    }
   },
   "outputs": [],
   "source": [
    "# In[ ]:\n",
    "src_var_names = locals()\n",
    "#---------------自动操作---------------#\n",
    "tool.getDataFromFileList(src_var_names,src_path,src_array)\n",
    "#---------------自动操作---------------#"
   ]
  },
  {
   "cell_type": "code",
   "execution_count": null,
   "metadata": {
    "ExecuteTime": {
     "end_time": "2021-05-07T09:22:22.789935Z",
     "start_time": "2021-05-07T09:22:22.151Z"
    }
   },
   "outputs": [],
   "source": [
    "#主体"
   ]
  },
  {
   "cell_type": "code",
   "execution_count": null,
   "metadata": {
    "ExecuteTime": {
     "end_time": "2021-05-07T09:22:22.789935Z",
     "start_time": "2021-05-07T09:22:22.152Z"
    }
   },
   "outputs": [],
   "source": [
    "#主体"
   ]
  },
  {
   "cell_type": "code",
   "execution_count": null,
   "metadata": {
    "ExecuteTime": {
     "end_time": "2021-05-07T09:22:22.790944Z",
     "start_time": "2021-05-07T09:22:22.154Z"
    }
   },
   "outputs": [],
   "source": [
    "#主体"
   ]
  },
  {
   "cell_type": "code",
   "execution_count": null,
   "metadata": {
    "ExecuteTime": {
     "end_time": "2021-05-07T09:22:22.791935Z",
     "start_time": "2021-05-07T09:22:22.155Z"
    }
   },
   "outputs": [],
   "source": [
    "#主体"
   ]
  },
  {
   "cell_type": "markdown",
   "metadata": {},
   "source": [
    "# 写入文件"
   ]
  },
  {
   "cell_type": "code",
   "execution_count": null,
   "metadata": {
    "ExecuteTime": {
     "end_time": "2021-05-07T09:22:22.793944Z",
     "start_time": "2021-05-07T09:22:22.156Z"
    }
   },
   "outputs": [],
   "source": [
    "# In[ ]:\n",
    "sql_cur.close()#关闭游标\n",
    "sql_conn.close()#关闭控制台\n",
    "with pd.ExcelWriter(output_path + output_name, engine='xlsxwriter') as writer:\n",
    "    df_.to_excel(writer, sheet_name='sheet1', index=False)#dataframe to excel\n",
    "    print('='*15 + \"成功写入文件\" + '='*15)"
   ]
  },
  {
   "cell_type": "markdown",
   "metadata": {},
   "source": [
    "# 修改文件格式"
   ]
  },
  {
   "cell_type": "code",
   "execution_count": null,
   "metadata": {
    "ExecuteTime": {
     "end_time": "2021-05-07T09:22:22.794945Z",
     "start_time": "2021-05-07T09:22:22.157Z"
    }
   },
   "outputs": [],
   "source": [
    "# In[ ]:\n",
    "if 1 == 1:\n",
    "    print('↓'*15 + \"开始修改格式\" + '↓'*15)\n",
    "    wb = openpyxl.load_workbook(output_path + output_name)\n",
    "    ws1 = wb[\"sheet1\"]\n",
    "\n",
    "    dic_col_width = {\"项目名称\":23,\"项目GID\":19,\"项目经理姓名\":14}#需要修改列宽的列名\n",
    "    middle_list = [\"项目GID\",\"项目经理姓名\",\"项目总监姓名\"]#需要居中的列名\n",
    "\n",
    "    #修改列宽\n",
    "    tool.changeColWidth(ws1, dic_col_width)\n",
    "\n",
    "    #全框线\n",
    "    tool.drawAllaround(ws1)\n",
    "\n",
    "    #根据列名居中\n",
    "    tool.changeToMiddleByList(ws1,middle_list)\n",
    "\n",
    "    #保存\n",
    "    wb.save(output_path + output_name)\n",
    "    print('='*15 + \"成功修改格式\" + '='*15)"
   ]
  }
 ],
 "metadata": {
  "kernelspec": {
   "display_name": "Python 3",
   "language": "python",
   "name": "python3"
  },
  "language_info": {
   "codemirror_mode": {
    "name": "ipython",
    "version": 3
   },
   "file_extension": ".py",
   "mimetype": "text/x-python",
   "name": "python",
   "nbconvert_exporter": "python",
   "pygments_lexer": "ipython3",
   "version": "3.8.8"
  },
  "toc": {
   "base_numbering": 1,
   "nav_menu": {},
   "number_sections": true,
   "sideBar": true,
   "skip_h1_title": false,
   "title_cell": "Table of Contents",
   "title_sidebar": "Contents",
   "toc_cell": false,
   "toc_position": {},
   "toc_section_display": true,
   "toc_window_display": false
  },
  "varInspector": {
   "cols": {
    "lenName": 16,
    "lenType": 16,
    "lenVar": 40
   },
   "kernels_config": {
    "python": {
     "delete_cmd_postfix": "",
     "delete_cmd_prefix": "del ",
     "library": "var_list.py",
     "varRefreshCmd": "print(var_dic_list())"
    },
    "r": {
     "delete_cmd_postfix": ") ",
     "delete_cmd_prefix": "rm(",
     "library": "var_list.r",
     "varRefreshCmd": "cat(var_dic_list()) "
    }
   },
   "types_to_exclude": [
    "module",
    "function",
    "builtin_function_or_method",
    "instance",
    "_Feature"
   ],
   "window_display": false
  }
 },
 "nbformat": 4,
 "nbformat_minor": 4
}

{
 "cells": [
  {
   "cell_type": "code",
   "execution_count": 1,
   "metadata": {
    "ExecuteTime": {
     "end_time": "2021-05-07T09:17:44.363096Z",
     "start_time": "2021-05-07T09:17:43.451344Z"
    }
   },
   "outputs": [],
   "source": [
    "#!/usr/bin/env python\n",
    "# coding: utf-8\n",
    "# -*- coding: utf-8 -*-\n",
    "\"\"\"\n",
    "Created on Mon Aug  3 13:26:46 2020\n",
    "\n",
    "@author: ShawnXiong\n",
    "\"\"\"\n",
    "import psycopg2             #通过密钥连接数据库\n",
    "import pandas as pd\n",
    "import json                 #读取JS密钥文件\n",
    "import shutil               #复制文件\n",
    "import datetime             #datetime时间模块\n",
    "import openpyxl             #excel文件读取写入\n",
    "import re                   #用于分析字符串\n",
    "from openpyxl.styles import Border,Side,Alignment,PatternFill,Font          #Excel格式\n",
    "from openpyxl.utils import get_column_letter, column_index_from_string      #Excel获取列名，列位置方法"
   ]
  },
  {
   "cell_type": "code",
   "execution_count": 2,
   "metadata": {
    "ExecuteTime": {
     "end_time": "2021-05-07T09:17:44.379116Z",
     "start_time": "2021-05-07T09:17:44.365098Z"
    }
   },
   "outputs": [],
   "source": [
    "def setTime(time_record, date_str=''):\n",
    "    if time_record == \"固定时间\":\n",
    "        date_now = datetime.date(*map(int, date_str.split('-')))\n",
    "        return date_now\n",
    "    elif time_record == \"当前时间\":\n",
    "        date_now = datetime.datetime.now().date()\n",
    "        return date_now"
   ]
  },
  {
   "cell_type": "markdown",
   "metadata": {},
   "source": [
    "# 数据库和文件操作"
   ]
  },
  {
   "cell_type": "markdown",
   "metadata": {
    "ExecuteTime": {
     "end_time": "2021-04-28T02:41:00.085093Z",
     "start_time": "2021-04-28T02:41:00.082093Z"
    }
   },
   "source": [
    "## 修改pandas的显示效果的子函数"
   ]
  },
  {
   "cell_type": "code",
   "execution_count": 3,
   "metadata": {
    "ExecuteTime": {
     "end_time": "2021-05-07T09:17:44.395130Z",
     "start_time": "2021-05-07T09:17:44.381110Z"
    }
   },
   "outputs": [],
   "source": [
    "def floatFormat(x):\n",
    "    if abs(x) >= 1e10 or 0 < abs(x) < 1e-3:\n",
    "        return \"%e\" % x\n",
    "    else:\n",
    "        return \"%.4f\" % x"
   ]
  },
  {
   "cell_type": "markdown",
   "metadata": {},
   "source": [
    "## 修改pandas的显示效果"
   ]
  },
  {
   "cell_type": "code",
   "execution_count": 4,
   "metadata": {
    "ExecuteTime": {
     "end_time": "2021-05-07T09:17:44.410697Z",
     "start_time": "2021-05-07T09:17:44.397105Z"
    }
   },
   "outputs": [],
   "source": [
    "def pandasPrettyPrinting():\n",
    "    pd.set_option('display.max_rows', None)     # 解决行显示不全\n",
    "    pd.set_option('display.max_columns', None)  # 解决列显示不全\n",
    "    # pd.set_option('max_colwidth', 1000)         # 解决列宽不够\n",
    "    # pd.set_option('display.width', 100)         # 解决列过早换行\n",
    "    pd.set_option('display.float_format', floatFormat)  # 解决浮点数总是科学计数法"
   ]
  },
  {
   "cell_type": "markdown",
   "metadata": {},
   "source": [
    "## 从json中获得key的所有需要的字段"
   ]
  },
  {
   "cell_type": "code",
   "execution_count": 5,
   "metadata": {
    "ExecuteTime": {
     "end_time": "2021-05-07T09:17:44.426242Z",
     "start_time": "2021-05-07T09:17:44.411711Z"
    }
   },
   "outputs": [],
   "source": [
    "def getKeyFromJson(key_path, key_test, key_orgin, key_flag):\n",
    "    if (key_flag == \"测试环境\") or (key_flag == \"真实环境\"):\n",
    "        if key_flag == \"测试环境\":\n",
    "            t = open(key_path + key_test)\n",
    "            f = json.load(t)\n",
    "        elif key_flag == \"真实环境\":\n",
    "            t = open(key_path + key_orgin)\n",
    "            f = json.load(t)\n",
    "        key = {\"database\": \"\", \"user\": \"\",\n",
    "               \"password\": \"\", \"host\": \"\", \"port\": \"\"}\n",
    "        key[\"database\"] = f[0][\"database\"]\n",
    "        key[\"user\"] = f[0][\"user\"]\n",
    "        key[\"password\"] = f[0][\"password\"]\n",
    "        key[\"host\"] = f[0][\"host\"]\n",
    "        key[\"port\"] = f[0][\"port\"]\n",
    "    return key"
   ]
  },
  {
   "cell_type": "markdown",
   "metadata": {},
   "source": [
    "## 通过获得的key连接数据库"
   ]
  },
  {
   "cell_type": "code",
   "execution_count": 6,
   "metadata": {
    "ExecuteTime": {
     "end_time": "2021-05-07T09:17:44.441245Z",
     "start_time": "2021-05-07T09:17:44.428238Z"
    }
   },
   "outputs": [],
   "source": [
    "def connectDatabase(key):\n",
    "    in_database = key[\"database\"]\n",
    "    in_user = key[\"user\"]\n",
    "    in_password = key[\"password\"]\n",
    "    in_host = key[\"host\"]\n",
    "    in_port = key[\"port\"]\n",
    "    conn = psycopg2.connect(database=in_database, user=in_user,\n",
    "                            password=in_password, host=in_host, port=in_port)\n",
    "    print(\"Connecting database successfully\")\n",
    "    cur = conn.cursor()\n",
    "    return conn,cur"
   ]
  },
  {
   "cell_type": "markdown",
   "metadata": {
    "ExecuteTime": {
     "end_time": "2021-04-28T02:41:13.067185Z",
     "start_time": "2021-04-28T02:41:13.065184Z"
    }
   },
   "source": [
    "## 通过（数据库连接指针，sql语句）获得数据"
   ]
  },
  {
   "cell_type": "code",
   "execution_count": 7,
   "metadata": {
    "ExecuteTime": {
     "end_time": "2021-05-07T09:17:44.457249Z",
     "start_time": "2021-05-07T09:17:44.444238Z"
    }
   },
   "outputs": [],
   "source": [
    "#是getDataFromSQLList的子函数，也可以单独使用\n",
    "def getDataFromSQL(cur, in_sqlText):\n",
    "    cur.execute(in_sqlText)\n",
    "    data = cur.fetchall()\n",
    "    columnDes = cur.description  # 获取列名\n",
    "    columnNames = [columnDes[i][0] for i in range(len(columnDes))]\n",
    "    result_df = pd.DataFrame([list(i) for i in data], columns=columnNames)\n",
    "    return result_df"
   ]
  },
  {
   "cell_type": "code",
   "execution_count": 8,
   "metadata": {
    "ExecuteTime": {
     "end_time": "2021-05-07T09:17:44.473244Z",
     "start_time": "2021-05-07T09:17:44.459241Z"
    }
   },
   "outputs": [],
   "source": [
    "#通过（sql动态变量空间，sql指针，sql的存放位置，sql的地址组）来获得sql的内容，具体数据放置在sql动态变量空间中\n",
    "def getDataFromSQLList(sql_var_names, sql_cur, sql_path, sql_array, replacing={}):\n",
    "    for sql_name in sql_array:\n",
    "        sql = open(sql_path + sql_name, mode='r', encoding='utf_8_sig')\n",
    "        sql_text = sql.readlines()\n",
    "        sql_text = \"\".join(sql_text)\n",
    "        sql_text = sql_text.replace('\\ufeff', ' ')\n",
    "\n",
    "        if len(replacing) != 0:\n",
    "            for aim in replacing.keys():\n",
    "                if aim in sql_text:\n",
    "                    print(\"replacing:\" + aim + replacing[aim])\n",
    "                    sql_text = sql_text.replace(aim, replacing[aim])\n",
    "                    \n",
    "        if sql_name.split('.')[0].find('t_') != -1:\n",
    "            sql_name_attach = sql_name.split('.')[0][sql_name.split('.')[0].find('t_'):]\n",
    "        else:\n",
    "            sql_name_attach = sql_name.split('.')[0][sql_name.split('.')[0].find('sql_of_')+7:]\n",
    "\n",
    "        sql_var_names['df_of_' + sql_name_attach] = getDataFromSQL(sql_cur, sql_text)\n",
    "        print(\"sql'[%s]'is running \" % sql_name, end=\"\")\n",
    "        print(\"The variable name is [df_of_%s]\" % sql_name_attach)\n",
    "\n",
    "        # dataframeToCSV(sql_var_names['df'+sql_name.split('.')[0][4:]], 'df'+sql_name.split('.')[0][4:]+\".csv\")   #保存到本地，文件的当前目录"
   ]
  },
  {
   "cell_type": "markdown",
   "metadata": {
    "ExecuteTime": {
     "end_time": "2021-04-28T02:41:55.117290Z",
     "start_time": "2021-04-28T02:41:55.114289Z"
    }
   },
   "source": [
    "## 通过（文件地址，表名，标题列，空值填充规则）来从文件中获得数据"
   ]
  },
  {
   "cell_type": "code",
   "execution_count": 9,
   "metadata": {
    "ExecuteTime": {
     "end_time": "2021-05-07T09:17:44.489248Z",
     "start_time": "2021-05-07T09:17:44.475245Z"
    }
   },
   "outputs": [],
   "source": [
    "#适配了CSV和EXCEL\n",
    "def getDataFromFile(file_path, sheet_name=None, index_col=[0], na_values=['NA']):\n",
    "    data_frame = pd.DataFrame()\n",
    "    if file_path.split(\".\")[-1] == \"csv\":  # 对于CSV文件\n",
    "        data_frame = pd.read_csv(file_path)\n",
    "        print(\"read file %s successfully \" % file_path.split(\"/\")[-1])\n",
    "    elif file_path.split(\".\")[-1] == \"xlsx\" or file_path.split(\".\")[-1] == \"xls\":  # 对于excel文件\n",
    "        #data_frame = pd.read_excel(file_path, sheet_name, index_col, na_values)\n",
    "        data_frame = pd.read_excel(file_path, sheet_name, index_col)\n",
    "    return data_frame"
   ]
  },
  {
   "cell_type": "code",
   "execution_count": 10,
   "metadata": {
    "ExecuteTime": {
     "end_time": "2021-05-07T09:17:44.505259Z",
     "start_time": "2021-05-07T09:17:44.491249Z"
    }
   },
   "outputs": [],
   "source": [
    "#通过（file地址动态变量空间，file的存放位置，file的地址组）来获得file的内容，具体数据放置在file动态变量空间中\n",
    "def getDataFromFileList(src_var_names, src_path, src_array):\n",
    "    for src_name in src_array:\n",
    "        src_name_attach = src_name.split('.')[0]\n",
    "        src_var_names['df_of_' + src_name_attach] = getDataFromFile(src_path+src_name, sheet_name = None)#一次获取文件所有的表单数据\n",
    "        print(\"file'[%s]'is loading. \" % src_name_attach, end=\"\")\n",
    "        print(\"The variable name is [df_of_%s]\" % src_name_attach)\n",
    "        \n",
    "        sheet_name_list = list(src_var_names['df_of_' + src_name_attach])\n",
    "        for sheet_name in sheet_name_list:\n",
    "            print(\"----includes sheet [%s]\" % sheet_name)"
   ]
  },
  {
   "cell_type": "markdown",
   "metadata": {
    "ExecuteTime": {
     "end_time": "2021-04-28T02:42:14.329439Z",
     "start_time": "2021-04-28T02:42:14.326450Z"
    }
   },
   "source": [
    "## 通过（数据，数据地址，写入方式，列名，编码方式）来写入文件为CSV"
   ]
  },
  {
   "cell_type": "code",
   "execution_count": 11,
   "metadata": {
    "ExecuteTime": {
     "end_time": "2021-05-07T09:17:44.521259Z",
     "start_time": "2021-05-07T09:17:44.506255Z"
    }
   },
   "outputs": [],
   "source": [
    "def dataframeToCSV(data, file_path, mode=\"w\", index=False, encoding='utf_8_sig'):\n",
    "    # index:False(不显示列名),True(显示列名);encoding:'utf_8_sig'(确保中文不乱码)\n",
    "    data.to_csv(file_path, mode=mode, index=index, encoding=encoding)\n",
    "\n",
    "    # mode =\n",
    "    # t\t  文本模式 (默认)。\n",
    "    # x\t  写模式，新建一个文件，如果该文件已存在则会报错。\n",
    "    # b\t  二进制模式。\n",
    "    # +\t  打开一个文件进行更新(可读可写)。\n",
    "    # U\t  通用换行模式（不推荐）。\n",
    "    # r\t  以只读方式打开文件。文件的指针将会放在文件的开头。这是默认模式。\n",
    "    # rb  以二进制格式打开一个文件用于只读。文件指针将会放在文件的开头。这是默认模式。一般用于非文本文件如图片等。\n",
    "    # r+  打开一个文件用于读写。文件指针将会放在文件的开头。\n",
    "    # rb+ 以二进制格式打开一个文件用于读写。文件指针将会放在文件的开头。一般用于非文本文件如图片等。\n",
    "    # w\t  打开一个文件只用于写入。如果该文件已存在则打开文件，并从开头开始编辑，即原有内容会被删除。如果该文件不存在，创建新文件。\n",
    "    # wb  以二进制格式打开一个文件只用于写入。如果该文件已存在则打开文件，并从开头开始编辑，即原有内容会被删除。如果该文件不存在，创建新文件。一般用于非文本文件如图片等。\n",
    "    # w+  打开一个文件用于读写。如果该文件已存在则打开文件，并从开头开始编辑，即原有内容会被删除。如果该文件不存在，创建新文件。\n",
    "    # wb+ 以二进制格式打开一个文件用于读写。如果该文件已存在则打开文件，并从开头开始编辑，即原有内容会被删除。如果该文件不存在，创建新文件。一般用于非文本文件如图片等。\n",
    "    # a\t  打开一个文件用于追加。如果该文件已存在，文件指针将会放在文件的结尾。也就是说，新的内容将会被写入到已有内容之后。如果该文件不存在，创建新文件进行写入。\n",
    "    # ab  以二进制格式打开一个文件用于追加。如果该文件已存在，文件指针将会放在文件的结尾。也就是说，新的内容将会被写入到已有内容之后。如果该文件不存在，创建新文件进行写入。\n",
    "    # a+  打开一个文件用于读写。如果该文件已存在，文件指针将会放在文件的结尾。文件打开时会是追加模式。如果该文件不存在，创建新文件用于读写。\n",
    "    # ab+ 以二进制格式打开一个文件用于追加。如果该文件已存在，文件指针将会放在文件的结尾。如果该文件不存在，创建新文件用于读写。"
   ]
  },
  {
   "cell_type": "markdown",
   "metadata": {
    "ExecuteTime": {
     "end_time": "2021-04-28T02:42:54.392154Z",
     "start_time": "2021-04-28T02:42:54.389152Z"
    }
   },
   "source": [
    "## 定制化操作"
   ]
  },
  {
   "cell_type": "code",
   "execution_count": 12,
   "metadata": {
    "ExecuteTime": {
     "end_time": "2021-05-07T09:17:44.537259Z",
     "start_time": "2021-05-07T09:17:44.523259Z"
    }
   },
   "outputs": [],
   "source": [
    "def dataframeCompress(df, CombineOfUnit, UnitToDo):\n",
    "    # df：           传入的dataframe\n",
    "    # CombineOfUnit：这一个list内容的组合为最小单位\n",
    "    # UnitToDo：     需要处理的列名\n",
    "\n",
    "    # 先根据combineofunit进行order排序\n",
    "    df = df.sort_values(by=CombineOfUnit, axis=0, ascending=True)  # A-Z排序\n",
    "\n",
    "    OutPutList = []\n",
    "    i = 0\n",
    "    tmp = dict(df.iloc[i])\n",
    "\n",
    "    for i in range(1, len(df)):\n",
    "        # 开始\n",
    "        if i < (len(df)-1):\n",
    "            flag = 1  # 默认相同，可以通过\n",
    "            for j in CombineOfUnit:  # 监测状况，如果和前一条不同，就flag为0\n",
    "                if df.iloc[i][j] != df.iloc[i-1][j]:\n",
    "                    flag = 0  # 有不同的\n",
    "                    break\n",
    "\n",
    "            if flag == 1:\n",
    "                # 前后相同的情况下，对数据进行处理，默认为累加\n",
    "                tmp[UnitToDo[0]] = tmp[UnitToDo[0]] + df.iloc[i][UnitToDo[0]]\n",
    "            else:\n",
    "                # 前后不相同的情况下，就写入该tmp并且更新此tmp\n",
    "                OutPutList.append(list(tmp.values()))\n",
    "                tmp = dict(df.iloc[i])\n",
    "\n",
    "        else:\n",
    "            flag = 1\n",
    "            for j in CombineOfUnit:\n",
    "                if df.iloc[i][j] != df.iloc[i-1][j]:\n",
    "                    flag = 0\n",
    "                    break\n",
    "\n",
    "            if flag == 1:\n",
    "                tmp[UnitToDo[0]] = tmp[UnitToDo[0]] + df.iloc[i][UnitToDo[0]]\n",
    "                OutPutList.append(list(tmp.values()))  # 添加了写入\n",
    "            else:\n",
    "                OutPutList.append(list(tmp.values()))\n",
    "                tmp = dict(df.iloc[i])\n",
    "                OutPutList.append(list(tmp.values()))  # 添加了写入\n",
    "\n",
    "    df_of_OutPutList = pd.DataFrame(data=OutPutList, columns=df.columns.values)\n",
    "\n",
    "    return df_of_OutPutList\n",
    "\n",
    "def concat_func(x):\n",
    "    return pd.Series({\n",
    "        'milestone_name':','.join(x['milestone_name']),\n",
    "        'max_estimated_end_date':','.join(x['max_estimated_end_date'])\n",
    "    })\n",
    "#df_of_t_milestone=df_of_t_milestone.groupby(df_of_t_milestone['project_gid']).apply(concat_func).reset_index()"
   ]
  },
  {
   "cell_type": "markdown",
   "metadata": {},
   "source": [
    "# 数据操作"
   ]
  },
  {
   "cell_type": "markdown",
   "metadata": {},
   "source": [
    "## 列内数据操作"
   ]
  },
  {
   "cell_type": "markdown",
   "metadata": {},
   "source": [
    "### 时间变换"
   ]
  },
  {
   "cell_type": "code",
   "execution_count": 13,
   "metadata": {
    "ExecuteTime": {
     "end_time": "2021-05-07T09:17:44.553263Z",
     "start_time": "2021-05-07T09:17:44.538260Z"
    }
   },
   "outputs": [],
   "source": [
    "# 将一列Datetime改为Str\n",
    "def changeColTime(df_base, col, From, To):\n",
    "    df = pd.DataFrame(df_base)\n",
    "    if From == 'datetime' and To == 'str':\n",
    "        df[col] = df_base[col].apply(lambda x: x.strftime('%Y-%m-%d'))\n",
    "    if From == 'datetime' and To == 'date':\n",
    "        df[col] = df_base[col].apply(lambda x: x.date())\n",
    "    if From == 'date' and To == 'Datetime':\n",
    "        df[col] = df_base[col].apply(lambda x: pd.to_datetime(x))\n",
    "    if From == 'date' and To == 'str':\n",
    "        df[col] = df_base[col].apply(lambda x: str(x))\n",
    "    if From == 'str' and To == 'datetime':\n",
    "        df[col] = df_base[col].apply(lambda x: datetime.datetime.strptime(x, style))\n",
    "    if From == 'str' and To == 'date':\n",
    "        df[col] = df_base[col].apply(\n",
    "            lambda x: datetime.date(*map(int, x.split('-'))))\n",
    "    return df\n",
    "\n",
    "\n",
    "def changeCellTime(time, From, To):\n",
    "    if From == 'str' and To == 'date':\n",
    "        Output = datetime.date(*map(int, time.split('-')))\n",
    "    if From == 'str' and To == 'datetime':\n",
    "        Output = datetime.datetime.strptime(time, '%Y-%m-%d')\n",
    "    if From == 'date' and To == 'datetime':\n",
    "        Output = pd.to_datetime(time)\n",
    "    if From == 'date' and To == 'str':\n",
    "        Output = str(time)\n",
    "    if From == 'datetime' and To == 'date':\n",
    "        Output = datetime.datetime.date(datetime.datetime.strptime(time.strftime('%Y%m%d'), '%Y%m%d'))\n",
    "    if From == 'datetime' and To == 'str':\n",
    "        Output = time.strftime('%Y-%m-%d')\n",
    "    return Output"
   ]
  },
  {
   "cell_type": "markdown",
   "metadata": {},
   "source": [
    "### 根据字典变换列数据"
   ]
  },
  {
   "cell_type": "code",
   "execution_count": 14,
   "metadata": {
    "ExecuteTime": {
     "end_time": "2021-05-07T09:17:44.569267Z",
     "start_time": "2021-05-07T09:17:44.554264Z"
    }
   },
   "outputs": [],
   "source": [
    "def changeColData(df_base,col,dic):\n",
    "    df = pd.DataFrame(df_base)\n",
    "    df[col] = df[col].apply(lambda x: dic[x])\n",
    "    return df"
   ]
  },
  {
   "cell_type": "markdown",
   "metadata": {},
   "source": [
    "## 修改列名操作"
   ]
  },
  {
   "cell_type": "code",
   "execution_count": 15,
   "metadata": {
    "ExecuteTime": {
     "end_time": "2021-05-07T09:17:44.585273Z",
     "start_time": "2021-05-07T09:17:44.571273Z"
    }
   },
   "outputs": [],
   "source": [
    "def changeCol(df_base,dic):\n",
    "    df = pd.DataFrame(df_base)\n",
    "    df.rename(columns = dic, inplace = True)\n",
    "    return df"
   ]
  },
  {
   "cell_type": "markdown",
   "metadata": {},
   "source": [
    "## 列格式操作"
   ]
  },
  {
   "cell_type": "code",
   "execution_count": 16,
   "metadata": {
    "ExecuteTime": {
     "end_time": "2021-05-07T09:17:44.601275Z",
     "start_time": "2021-05-07T09:17:44.587273Z"
    }
   },
   "outputs": [],
   "source": [
    "# 保留两位小数\n",
    "def keepDecimalPlaces(df_base, col, roundnum=2):\n",
    "    df = pd.DataFrame(df_base)\n",
    "    df[col] = df[col].apply(lambda x: round(x, roundnum))\n",
    "    return df\n"
   ]
  },
  {
   "cell_type": "markdown",
   "metadata": {},
   "source": [
    "## 行数据操作"
   ]
  },
  {
   "cell_type": "code",
   "execution_count": 17,
   "metadata": {
    "ExecuteTime": {
     "end_time": "2021-05-07T09:17:44.617282Z",
     "start_time": "2021-05-07T09:17:44.603278Z"
    }
   },
   "outputs": [],
   "source": [
    "#通过列表删除行数据\n",
    "def delRows(df_base,col_name,list_row_del):\n",
    "    df = pd.DataFrame(df_base)\n",
    "    for i in list_row_del:\n",
    "        df.drop(df[df[col_name]==i].index, inplace=True)\n",
    "    return df"
   ]
  },
  {
   "cell_type": "markdown",
   "metadata": {},
   "source": [
    "# 修改格式"
   ]
  },
  {
   "cell_type": "markdown",
   "metadata": {},
   "source": [
    "## 框线"
   ]
  },
  {
   "cell_type": "code",
   "execution_count": 18,
   "metadata": {
    "ExecuteTime": {
     "end_time": "2021-05-07T09:17:44.633281Z",
     "start_time": "2021-05-07T09:17:44.618279Z"
    }
   },
   "outputs": [],
   "source": [
    "# 给sheet绘制全框线\n",
    "def drawAllaround(ws, color='000000'):\n",
    "    all_border = Border(left=Side(border_style='thin', color='000000'),\n",
    "                        right=Side(border_style='thin', color='000000'),\n",
    "                        top=Side(border_style='thin', color='000000'),\n",
    "                        bottom=Side(border_style='thin', color='000000'))\n",
    "    for row in ws.rows:\n",
    "        for cell in row:\n",
    "            cell.border = all_border\n",
    "\n",
    "\n",
    "# 绘制中间框线,线加入在所填写列的右边一侧\n",
    "def drawLine(ws, ws_col, row_from=1, rows_to=None, mid_color='FF0000'):\n",
    "    if rows_to == None:\n",
    "        rows_to = ws.max_row\n",
    "    if type(ws_col) == str:\n",
    "        ws_col = column_index_from_string(ws_col)  # 从字母获得数字\n",
    "        # 另外，数字获得字母的语句是get_column_letter(ws_col)\n",
    "\n",
    "    thick_right = Border(left=Side(border_style='thin', color='000000'),\n",
    "                         right=Side(border_style='thick', color=mid_color),\n",
    "                         top=Side(border_style='thin', color='000000'),\n",
    "                         bottom=Side(border_style='thin', color='000000'))\n",
    "\n",
    "    thick_left = Border(left=Side(border_style='thick', color='000000'),\n",
    "                        right=Side(border_style='thin', color=mid_color),\n",
    "                        top=Side(border_style='thin', color='000000'),\n",
    "                        bottom=Side(border_style='thin', color='000000'))\n",
    "\n",
    "    for i in range(row_from, rows_to+1):\n",
    "        ws[i][ws_col-1].border = thick_right\n",
    "        ws[i][ws_col].border = thick_left"
   ]
  },
  {
   "cell_type": "markdown",
   "metadata": {},
   "source": [
    "## 位置操作"
   ]
  },
  {
   "cell_type": "markdown",
   "metadata": {},
   "source": [
    "### 全表操作"
   ]
  },
  {
   "cell_type": "code",
   "execution_count": 19,
   "metadata": {
    "ExecuteTime": {
     "end_time": "2021-05-07T09:17:44.649286Z",
     "start_time": "2021-05-07T09:17:44.635284Z"
    }
   },
   "outputs": [],
   "source": [
    "# 全表列居中\n",
    "def changeToMiddle(ws):\n",
    "    for row in ws.rows:\n",
    "        for cell in row:\n",
    "            cell.alignment = Alignment(horizontal='center', vertical='center')\n",
    "            \n",
    "# 全表列首居中\n",
    "def middleHead(ws):\n",
    "    max_col = ws.max_column\n",
    "    for i in range(0, max_col):\n",
    "        ws[1][i].alignment = Alignment(horizontal='center', vertical='center')"
   ]
  },
  {
   "cell_type": "markdown",
   "metadata": {},
   "source": [
    "### 局部操作"
   ]
  },
  {
   "cell_type": "code",
   "execution_count": 20,
   "metadata": {
    "ExecuteTime": {
     "end_time": "2021-05-07T09:17:44.664288Z",
     "start_time": "2021-05-07T09:17:44.651290Z"
    }
   },
   "outputs": [],
   "source": [
    "# 居左居右矩形区域操作，默认为全表居中\n",
    "def changeAlignment(ws, hori_posi='center', verti_posi='center', cell_start=None, cell_end=None, col_flag = False):\n",
    "    #获得数字的正则表达式是''.join(re.findall(r'\\d+\\.?\\d*'', cell_start))\n",
    "    if col_flag == True:\n",
    "        if cell_start == None:\n",
    "            cell_start = 'A1'\n",
    "        else:\n",
    "            cell_start = ''.join(re.findall(r'[A-Za-z]', cell_start)) + '1'\n",
    "            \n",
    "        if cell_end == None:\n",
    "            cell_end = get_column_letter(ws1.max_column) + str(ws1.max_row)\n",
    "        else:\n",
    "            cell_end = ''.join(re.findall(r'[A-Za-z]', cell_end)) + str(ws1.max_row)\n",
    "            \n",
    "    else:\n",
    "        if cell_start == None:\n",
    "            cell_start = 'A1'\n",
    "            \n",
    "        if cell_end == None:\n",
    "            cell_end = get_column_letter(ws1.max_column) + str(ws1.max_row)\n",
    "    \n",
    "    align = Alignment(horizontal = hori_posi, vertical = verti_posi)\n",
    "    for rows in ws[cell_start:cell_end]:\n",
    "        for cell in rows:\n",
    "            cell.alignment = align\n",
    "\n",
    "            \n",
    "            \n",
    "# 按列居左居右\n",
    "def changeColAlignment(ws, hori_posi='center', verti_posi='center', col_start = None, col_end = None):\n",
    "    align = Alignment(horizontal=hori_posi, vertical=verti_posi)\n",
    "    if type(col_start) == str:\n",
    "        col_start = column_index_from_string(col_start)\n",
    "    if type(col_end) == str:\n",
    "        col_end = column_index_from_string(col_end)\n",
    "    # 不修改题头\n",
    "    for i in range(2, ws.max_row+1):\n",
    "        for j in range(col_start, col_end+1):\n",
    "            ws.cell(i, j).alignment = align\n",
    "\n",
    "            \n",
    "#根据列名设置居中\n",
    "def changeToMiddleByList(ws,lis,h_position='center',v_position='center'):\n",
    "    dic = {}\n",
    "    for i in range(1,len(ws[1])+1):\n",
    "        if ws[1][i-1].value in lis: \n",
    "            dic[ws[1][i-1].value] = get_column_letter(i)\n",
    "\n",
    "    for i in dic.values():\n",
    "        for cell in ws[i]:\n",
    "            cell.alignment = Alignment(horizontal=h_position, vertical=v_position)\n",
    "\n",
    "            \n",
    "# 在col_insert_name后插入列\n",
    "def insertCol(df, col, col_insert_name, value, posi=1):\n",
    "    df.insert(list(df.columns).index(col)+posi, col_insert_name, value)"
   ]
  },
  {
   "cell_type": "markdown",
   "metadata": {},
   "source": [
    "## 宽度操作\n"
   ]
  },
  {
   "cell_type": "code",
   "execution_count": 21,
   "metadata": {
    "ExecuteTime": {
     "end_time": "2021-05-07T09:17:44.680292Z",
     "start_time": "2021-05-07T09:17:44.666289Z"
    }
   },
   "outputs": [],
   "source": [
    "# 通过字典或者列表修改指定列的列宽\n",
    "def changeColWidth(ws, using):\n",
    "    if type(using) == dict:\n",
    "        dic = {}\n",
    "        for i in range(1, len(ws[1])+1):\n",
    "            if ws[1][i-1].value in using:\n",
    "                dic[get_column_letter(i)] = using[ws[1][i-1].value]\n",
    "\n",
    "        for i in dic.keys():\n",
    "            ws.column_dimensions[i].width = dic[i]\n",
    "    if type(using) == list:\n",
    "        for i in range(1, len(using)+1):\n",
    "            ws.column_dimensions[openpyxl.utils.get_column_letter(i)].width = using[i-1]"
   ]
  },
  {
   "cell_type": "markdown",
   "metadata": {},
   "source": [
    "# 字典"
   ]
  },
  {
   "cell_type": "code",
   "execution_count": 22,
   "metadata": {
    "ExecuteTime": {
     "end_time": "2021-05-07T09:17:44.696296Z",
     "start_time": "2021-05-07T09:17:44.684300Z"
    }
   },
   "outputs": [],
   "source": [
    "dic_col_1 = {'contract_gid': '合同GID', 'contract_name': '合同名称', 'contract_paydue_type': '合同收款节点类型', \n",
    "             'milestone_id': '合同收款节点匹配项目里程碑', 'contract_paydue_date1': '开始时间', 'contract_paydue_date2': '结束时间',\n",
    "             'add_value_addition': '合同总金额（合同金额+变更金额）', 'sum_contract_paydue_amount': '收款节点的累计金额',\n",
    "             'whether_equal': '是否相等', 'sum_positive_invoice_amount': '正累计开票金额', \n",
    "             'sum_negative_invoice_amount': '负累计开票金额', 'sum_receipts_amount': '累计收款金额'}\n",
    "\n",
    "dic_contract_paydue = {'IMPL': '实施款', 'LICS': '软件款',\n",
    "                       'MD': '人天费', 'OM': '运维费', 'SBCT': '订阅费'}\n",
    "\n",
    "dic_col_2 = {\"project_name\": \"项目名称\", \"project_gid\": \"项目GID\", \"project_manager_name\": \"项目经理姓名\",\n",
    "             \"project_director_name\": \"项目总监姓名\", \"project_status\": \"项目状态\",\n",
    "             \"milestone_name\": \"里程碑名称\", \"milestone_status\": \"里程碑状态\", \"end_date\": \"里程碑结束日期\",\n",
    "             \"estimated_end_date\": \"里程碑预计结束日期\", \"contract_paydue_name_agg\": \"对应收款节点\",\n",
    "             \"milestone_amount\": \"收款金额\"}\n",
    "\n",
    "dic_milestone_status = {\"ACI\": \"已完成\", \"IPR\": \"进行中\", \"INIT\": \"未启动\"}\n",
    "\n",
    "dic_project_status = {\"BPL\": \"计划中\", \"CMP\": \"已结项\",\n",
    "                      \"HLD\": \"挂起\", \"MAINT\": \"运维中\", \"QUOT\": \"报价中\", \"WIP\": \"进行中\"}\n",
    "\n",
    "dic_milestone_name = {\"PRSRT\": \"项目启动\", \"ASIS\": \"现状调研\", \"TOBE\": \"蓝图设计\", \"DEVP\": \"开发构建\",\n",
    "                      \"UAT\": \"UAT\", \"PREPROD\": \"试运行\", \"PROD\": \"上线支持\", \"MAINT\": \"系统运维\", \"FUTURE\": \"未来\"}"
   ]
  },
  {
   "cell_type": "markdown",
   "metadata": {},
   "source": [
    "# 输出为.py文件"
   ]
  },
  {
   "cell_type": "code",
   "execution_count": 23,
   "metadata": {
    "ExecuteTime": {
     "end_time": "2021-05-07T09:17:46.288369Z",
     "start_time": "2021-05-07T09:17:44.698296Z"
    }
   },
   "outputs": [
    {
     "name": "stderr",
     "output_type": "stream",
     "text": [
      "[NbConvertApp] Converting notebook tool.ipynb to python\n",
      "[NbConvertApp] Writing 16702 bytes to tool.py\n"
     ]
    }
   ],
   "source": [
    "try:  \n",
    "    !jupyter nbconvert --to python tool.ipynb\n",
    "    # python即转化为.py，script即转化为.html\n",
    "    # file_name.ipynb即当前module的文件名\n",
    "except:\n",
    "    pass"
   ]
  }
 ],
 "metadata": {
  "kernelspec": {
   "display_name": "Python 3",
   "language": "python",
   "name": "python3"
  },
  "language_info": {
   "codemirror_mode": {
    "name": "ipython",
    "version": 3
   },
   "file_extension": ".py",
   "mimetype": "text/x-python",
   "name": "python",
   "nbconvert_exporter": "python",
   "pygments_lexer": "ipython3",
   "version": "3.8.8"
  },
  "toc": {
   "base_numbering": 1,
   "nav_menu": {},
   "number_sections": true,
   "sideBar": true,
   "skip_h1_title": false,
   "title_cell": "Table of Contents",
   "title_sidebar": "Contents",
   "toc_cell": false,
   "toc_position": {},
   "toc_section_display": true,
   "toc_window_display": false
  },
  "varInspector": {
   "cols": {
    "lenName": 16,
    "lenType": 16,
    "lenVar": 40
   },
   "kernels_config": {
    "python": {
     "delete_cmd_postfix": "",
     "delete_cmd_prefix": "del ",
     "library": "var_list.py",
     "varRefreshCmd": "print(var_dic_list())"
    },
    "r": {
     "delete_cmd_postfix": ") ",
     "delete_cmd_prefix": "rm(",
     "library": "var_list.r",
     "varRefreshCmd": "cat(var_dic_list()) "
    }
   },
   "types_to_exclude": [
    "module",
    "function",
    "builtin_function_or_method",
    "instance",
    "_Feature"
   ],
   "window_display": false
  }
 },
 "nbformat": 4,
 "nbformat_minor": 4
}
